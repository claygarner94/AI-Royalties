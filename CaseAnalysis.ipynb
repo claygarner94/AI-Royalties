{
 "cells": [
  {
   "cell_type": "code",
   "execution_count": 18,
   "id": "6fab360d",
   "metadata": {},
   "outputs": [],
   "source": [
    "%matplotlib inline\n",
    "import matplotlib.pyplot as plt\n",
    "from os.path import join, dirname, exists, isdir, isfile, splitext, basename\n",
    "from os import listdir\n",
    "from PIL import Image\n",
    "import numpy as np\n",
    "from tqdm.auto import tqdm"
   ]
  },
  {
   "cell_type": "code",
   "execution_count": 2,
   "id": "74e19887",
   "metadata": {},
   "outputs": [],
   "source": [
    "path = \"/Users/jonathanraiman/Desktop/cases/\""
   ]
  },
  {
   "cell_type": "code",
   "execution_count": 3,
   "id": "d4917591",
   "metadata": {},
   "outputs": [],
   "source": [
    "def find_pairs(path):\n",
    "    if isdir(path):\n",
    "        children = [join(path, fname) for fname in listdir(path)]\n",
    "        files = [subpath for subpath in children if isfile(subpath)]\n",
    "        dirs = [subpath for subpath in children if isdir(subpath)]\n",
    "        if len(files) > 0:\n",
    "            return {path: files}\n",
    "        else:\n",
    "            out = {}\n",
    "            for subpath in dirs:\n",
    "                out.update(find_pairs(subpath))\n",
    "            return out\n",
    "    return {}"
   ]
  },
  {
   "cell_type": "code",
   "execution_count": 4,
   "id": "d2d037ab",
   "metadata": {},
   "outputs": [],
   "source": [
    "from raive.image_embedding.image_embedder import ImageEmbedder\n",
    "from raive.constants import CLIP_IMAGE_EMBEDDING_VERSION\n",
    "from raive.torch_utils import auto_device"
   ]
  },
  {
   "cell_type": "code",
   "execution_count": 5,
   "id": "daae7d3e",
   "metadata": {},
   "outputs": [],
   "source": [
    "from transformers import CLIPModel, CLIPVisionModel"
   ]
  },
  {
   "cell_type": "code",
   "execution_count": 7,
   "id": "d95682d2",
   "metadata": {},
   "outputs": [],
   "source": [
    "embedder = ImageEmbedder(CLIP_IMAGE_EMBEDDING_VERSION, device=auto_device(), color_count=8)"
   ]
  },
  {
   "cell_type": "code",
   "execution_count": 8,
   "id": "3cba7140",
   "metadata": {},
   "outputs": [],
   "source": [
    "pairs = find_pairs(path)"
   ]
  },
  {
   "cell_type": "code",
   "execution_count": 14,
   "id": "0d2f49dd",
   "metadata": {},
   "outputs": [
    {
     "data": {
      "application/json": {
       "ascii": false,
       "bar_format": null,
       "colour": null,
       "elapsed": 0.021942138671875,
       "initial": 0,
       "n": 0,
       "ncols": null,
       "nrows": 63,
       "postfix": null,
       "prefix": "",
       "rate": null,
       "total": 11,
       "unit": "it",
       "unit_divisor": 1000,
       "unit_scale": false
      },
      "application/vnd.jupyter.widget-view+json": {
       "model_id": "d41091de68034c429c6a3cd724db81b1",
       "version_major": 2,
       "version_minor": 0
      },
      "text/plain": [
       "  0%|          | 0/11 [00:00<?, ?it/s]"
      ]
     },
     "metadata": {},
     "output_type": "display_data"
    }
   ],
   "source": [
    "embedded_pairs = {}\n",
    "for key, files in tqdm(pairs.items()):\n",
    "    embeds = []\n",
    "    for fname in files:\n",
    "        embeds.append((fname, embedder.embed_image(Image.open(fname), compute_extras=False)))\n",
    "    embedded_pairs[key] = embeds"
   ]
  },
  {
   "cell_type": "code",
   "execution_count": 17,
   "id": "8e0c4c6e",
   "metadata": {},
   "outputs": [],
   "source": [
    "FU_SCORES = {}\n",
    "NFU_SCORES = {}\n",
    "OTHER_SCORES = []\n",
    "\n",
    "for key, case in embedded_pairs.items():\n",
    "    for name, embed in case:\n",
    "        based = splitext(basename(name))[0].lower()\n",
    "        if \"original\" in based:\n",
    "            rest = based.split(\"original\")[-1]\n",
    "            if len(rest) > 0:\n",
    "                original_index = int(rest)\n",
    "            else:\n",
    "                original_index = None\n",
    "            comparisons = []\n",
    "            if original_index is not None:\n",
    "                for other_name, other_embed in case:\n",
    "                    if f\"inspired{original_index}\" in basename(other_name).lower():\n",
    "                        comparisons.append((other_name, other_embed))\n",
    "            else:\n",
    "                for other_name, other_embed in case:\n",
    "                    if \"inspired\" in basename(other_name).lower():\n",
    "                        comparisons.append((other_name, other_embed))\n",
    "            assert len(comparisons) > 0          \n",
    "            original_embed = embed.embedding / np.linalg.norm(embed.embedding)\n",
    "            derived = [(image, embed.embedding / np.linalg.norm(embed.embedding)) for image, embed in comparisons]\n",
    "            visited = set([image for image, _ in derived] + [name])\n",
    "            for image, el in derived:\n",
    "                score = original_embed.dot(el)\n",
    "                if \"not_fair_use\" in image or \"not fair use\" in image.lower():\n",
    "                    NFU_SCORES[image] = score\n",
    "                else:\n",
    "                    FU_SCORES[image] = score\n",
    "            all_vecs = [embed.embedding\n",
    "                        for _, other_case in embedded_pairs.items()\n",
    "                        for image, embed in other_case if image not in visited]\n",
    "            all_vecs = np.stack(all_vecs, axis=0)\n",
    "            all_vecs = all_vecs / np.linalg.norm(all_vecs, axis=-1, keepdims=True)\n",
    "            other_scores = original_embed.dot(all_vecs.T)\n",
    "            OTHER_SCORES.extend(list(other_scores))\n",
    "            "
   ]
  },
  {
   "cell_type": "code",
   "execution_count": 32,
   "id": "bffa76e9",
   "metadata": {},
   "outputs": [
    {
     "data": {
      "image/png": "[encoded data removed]",
      "text/plain": [
       "<Figure size 640x480 with 1 Axes>"
      ]
     },
     "metadata": {},
     "output_type": "display_data"
    }
   ],
   "source": [
    "plt.hist(OTHER_SCORES, bins=20, color=\"gray\", alpha=0.7,  density=False, label=\"Others\", weights=np.ones(len(OTHER_SCORES)) / len(OTHER_SCORES))\n",
    "plt.hist(FU_SCORES.values(), bins=10, color=\"blue\", alpha=0.7,  density=False, label=\"Fair Use\", weights=np.ones(len(FU_SCORES)) / len(FU_SCORES))\n",
    "plt.hist(NFU_SCORES.values(),bins=10,  color=\"red\", alpha=0.7,  density=False, label=\"Not Fair Use\", weights=np.ones(len(NFU_SCORES)) / len(NFU_SCORES))\n",
    "plt.legend();\n",
    "plt.savefig(\"/Users/jonathanraiman/Desktop/fair_use.pdf\", bbox_inches=\"tight\");"
   ]
  },
  {
   "cell_type": "code",
   "execution_count": 29,
   "id": "6b87b6b3",
   "metadata": {},
   "outputs": [
    {
     "name": "stdout",
     "output_type": "stream",
     "text": [
      "fair_use/FU_case2_(blanch_v_koons)/case2_inspired.jpg\t0.6652143597602844\n",
      "fair_use/FU_case3_(kienitz_v_sconnie_nation)/case3_inspired.jpg\t0.47868579626083374\n",
      "fair_use/FU_case1_(marano_v_met_museum)/case1_inspired.png\t0.6696204543113708\n",
      "fair_use/FU_case5_(cariou_v_prince)/these_images_were_deemed_fair_use/case5_inspired1.jpeg\t0.5505673885345459\n",
      "fair_use/FU_case5_(cariou_v_prince)/these_images_were_deemed_fair_use/case5_inspired2.jpeg\t0.5401787161827087\n",
      "fair_use/FU_case5_(cariou_v_prince)/these_images_were_deemed_fair_use/case5_inspired3.jpeg\t0.5500699877738953\n",
      "fair_use/FU_case5_(cariou_v_prince)/these_images_were_deemed_fair_use/case5_inspired4.jpeg\t0.7604902982711792\n",
      "fair_use/FU_case4_(green_day_v_seltzer)/case4_inspired1.jpg\t0.6869364380836487\n",
      "fair_use/FU_case4_(green_day_v_seltzer)/case4_inspired2.jpg\t0.5370476841926575\n",
      "fair_use/FU_case5_(cariou_v_prince)/these_images_were_deemed_PROBABLY_NOT_fair_use/NFU_case5_inspired3.jpeg\t0.7762963771820068\n",
      "fair_use/FU_case5_(cariou_v_prince)/these_images_were_deemed_PROBABLY_NOT_fair_use/NFU_case5_inspired2.jpeg\t0.7149514555931091\n",
      "fair_use/FU_case5_(cariou_v_prince)/these_images_were_deemed_PROBABLY_NOT_fair_use/NFU_case5_inspired1.png\t0.7470977306365967\n",
      "not_fair_use/NFU_case1_(morris_v_guetta)/case1_inspired2_3.jpg\t0.6262940764427185\n",
      "not_fair_use/NFU_case1_(morris_v_guetta)/case1_inspired2_3.png\t0.7773822546005249\n",
      "not_fair_use/NFU_case1_(morris_v_guetta)/case1_inspired3_3.jpg\t0.7015218734741211\n",
      "not_fair_use/NFU_case2_(warhol_foundation_v_goldsmith)/case2_inspired.jpg\t0.8516433835029602\n",
      "not_fair_use/NFU_case4_(dam_things_v_russ_berrie)/case4_inspired.png\t0.9017535448074341\n",
      "not_fair_use/NFU_case5_(emily_ratajkowski_v_o_neill)/case5_inspired.png\t0.9306230545043945\n",
      "not_fair_use/NFU_case3_(dr_seuss_v_comicmix)/case3_inspired1.png\t0.7232387661933899\n",
      "not_fair_use/NFU_case3_(dr_seuss_v_comicmix)/case3_inspired2.png\t0.5977684855461121\n"
     ]
    }
   ],
   "source": [
    "for el, score in FU_SCORES.items():\n",
    "    print(f'{el.split(\"/cases/\")[-1].replace(\" \", \"_\")}\\t{score}')\n",
    "for el, score in NFU_SCORES.items():\n",
    "    print(f'{el.split(\"/cases/\")[-1].replace(\" \", \"_\")}\\t{score}')"
   ]
  },
  {
   "cell_type": "code",
   "execution_count": null,
   "id": "162eb471",
   "metadata": {},
   "outputs": [],
   "source": []
  }
 ],
 "metadata": {
  "kernelspec": {
   "display_name": "Python 3 (ipykernel)",
   "language": "python",
   "name": "python3"
  },
  "language_info": {
   "codemirror_mode": {
    "name": "ipython",
    "version": 3
   },
   "file_extension": ".py",
   "mimetype": "text/x-python",
   "name": "python",
   "nbconvert_exporter": "python",
   "pygments_lexer": "ipython3",
   "version": "3.10.6"
  }
 },
 "nbformat": 4,
 "nbformat_minor": 5
}
